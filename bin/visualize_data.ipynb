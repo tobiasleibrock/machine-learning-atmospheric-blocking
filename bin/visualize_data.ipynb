{
 "cells": [
  {
   "cell_type": "code",
   "execution_count": 54,
   "metadata": {},
   "outputs": [],
   "source": [
    "import netCDF4\n",
    "import random\n",
    "import numpy as np\n",
    "import pandas as pd\n",
    "import cartopy.crs as ccrs\n",
    "import xarray as xr\n",
    "import nc_time_axis\n",
    "import matplotlib.pyplot as plt\n",
    "\n",
    "from netCDF4 import Dataset\n",
    "from datetime import datetime, timedelta"
   ]
  },
  {
   "cell_type": "code",
   "execution_count": 98,
   "metadata": {},
   "outputs": [],
   "source": [
    "variable = \"<var>\"\n",
    "pre_lon, pre_lat = \"<lon>\", \"<lat>\"\n",
    "post_lon, post_lat = \"<lon>\", \"<lat>\"\n",
    "\n",
    "pre_transform_path = \"../data/<path>\"\n",
    "post_transform_path = \"../data/<path>\"\n",
    "label_path = \"../data/<path>\"\n",
    "\n",
    "pre_data = xr.open_dataset(xr.backends.NetCDF4DataStore(Dataset(pre_transform_path, mode='r')), decode_times=True)\n",
    "post_data = xr.open_dataset(xr.backends.NetCDF4DataStore(Dataset(post_transform_path, mode='r')), decode_times=True)\n",
    "labels = xr.open_dataset(xr.backends.NetCDF4DataStore(Dataset(label_path, mode='r')), decode_times=True)"
   ]
  },
  {
   "cell_type": "markdown",
   "metadata": {},
   "source": [
    "## comparison between unprocessed and processed data for entry 0"
   ]
  },
  {
   "cell_type": "code",
   "execution_count": null,
   "metadata": {},
   "outputs": [],
   "source": [
    "# plot pre-transform data and post-transform data\n",
    "\n",
    "fig = plt.figure()\n",
    "ax = plt.axes(projection=ccrs.PlateCarree())\n",
    "ax.coastlines(resolution=\"110m\",linewidth=1)\n",
    "ax.gridlines(linestyle='--',color='black')\n",
    "\n",
    "plt.contourf(pre_data[pre_lon], pre_data[pre_lat], pre_data[variable][0], transform=ccrs.PlateCarree(),cmap=plt.cm.jet)\n",
    "plt.title('Pre-Data', size=12)\n",
    "cb = plt.colorbar(ax=ax, orientation=\"horizontal\", pad=0.02, aspect=16, shrink=0.8)\n",
    "\n",
    "fig = plt.figure()\n",
    "ax = plt.axes(projection=ccrs.PlateCarree())\n",
    "ax.coastlines(resolution=\"110m\",linewidth=1)\n",
    "ax.gridlines(linestyle='--',color='black')\n",
    "\n",
    "plt.contourf(post_data[post_lon], post_data[post_lat], post_data[variable][0][0], transform=ccrs.PlateCarree(),cmap=plt.cm.jet)\n",
    "plt.title('Post-Data', size=12)\n",
    "cb = plt.colorbar(ax=ax, orientation=\"horizontal\", pad=0.02, aspect=16, shrink=0.8)"
   ]
  },
  {
   "cell_type": "markdown",
   "metadata": {},
   "source": [
    "## trend analyses for unprocessed and processed data with calculated linear coefficient"
   ]
  },
  {
   "cell_type": "code",
   "execution_count": null,
   "metadata": {},
   "outputs": [],
   "source": [
    "fig, axs = plt.subplots(nrows=1,ncols=2, figsize=(20, 5))\n",
    "\n",
    "# pre data\n",
    "day = pre_data.sel(time=(pre_data[\"time.day\"] == i+1) & (pre_data[\"time.month\"] == 6))\n",
    "grouped_data = day.groupby('time.year').mean(dim='time')\n",
    "y = np.mean(grouped_data[variable].data, axis=(1,2))\n",
    "x = np.arange(len(y))\n",
    "coef1 = np.polyfit(x, y,1)\n",
    "poly1d_fn = np.poly1d(coef1) \n",
    "\n",
    "axs[0].set_title(\"Normal Data\")\n",
    "axs[0].plot(x, y, 'b-')\n",
    "axs[0].plot(x, poly1d_fn(x), 'r--')\n",
    "\n",
    "# post data\n",
    "day = post_data.sel(time=(post_data[\"time.day\"] == i+1) & (post_data[\"time.month\"] == 6))\n",
    "grouped_data = day.groupby('time.year').mean(dim='time')\n",
    "y = np.mean(grouped_data[variable].data, axis=(2,3))[:,0]\n",
    "x = np.arange(len(y))\n",
    "coef2 = np.polyfit(x, y,1)\n",
    "poly1d_fn = np.poly1d(coef2)\n",
    "\n",
    "axs[1].set_title(\"De-Trended & Normalized Data\")\n",
    "axs[1].plot(x, y, 'b-')\n",
    "axs[1].plot(x, poly1d_fn(x), 'r--')\n",
    "\n",
    "fig.text(0.3, 0.02, f'coefficient {coef1[0]:.3f}', ha='center', va='center', fontsize=12)\n",
    "fig.text(0.7, 0.02, f'coefficient {coef2[0]:.3f}', ha='center', va='center', fontsize=12)\n",
    "\n",
    "plt.show()"
   ]
  },
  {
   "cell_type": "markdown",
   "metadata": {},
   "source": [
    "## seasonalized data vs. de-seasonalized data with maximum and minimum apparent"
   ]
  },
  {
   "cell_type": "code",
   "execution_count": null,
   "metadata": {},
   "outputs": [],
   "source": [
    "plt.subplot(2, 1, 1)\n",
    "plt.ylabel(\"seasonalized data\")\n",
    "plt.plot(np.mean(pre_data[variable], axis=(1, 2)))\n",
    "\n",
    "plt.subplot(2, 1, 2)\n",
    "plt.ylabel(\"de-seasonalized data\")\n",
    "plt.plot(np.mean(post_data[variable][:,0], axis=(1, 2)))\n",
    "plt.show()"
   ]
  },
  {
   "cell_type": "markdown",
   "metadata": {},
   "source": [
    "## year 1995-2000 compared between normal data and de-seasonalized data"
   ]
  },
  {
   "cell_type": "code",
   "execution_count": null,
   "metadata": {},
   "outputs": [],
   "source": [
    "fix, axs = plt.subplots(nrows=1, ncols=2, figsize=(15, 3))\n",
    "\n",
    "axs[0].plot(pre_data.sel(time=slice(\"1995-06-01\", \"2000-08-31\"))[variable].mean(dim=(\"latitude\", \"longitude\")))\n",
    "axs[1].plot(post_data.sel(time=slice(\"1995-06-01\", \"2000-08-31\"))[variable].mean(dim=(\"latitude\", \"longitude\"))[:,0])\n",
    "\n",
    "plt.show()"
   ]
  },
  {
   "cell_type": "markdown",
   "metadata": {},
   "source": [
    "## plot locking events during 1979 (01.06-05.06) and 2003 (28.07-01.08)"
   ]
  },
  {
   "cell_type": "code",
   "execution_count": null,
   "metadata": {},
   "outputs": [],
   "source": [
    "# plot two positve anomalies\n",
    "\n",
    "fig, axs = plt.subplots(nrows=2,ncols=5,\n",
    "                        subplot_kw={'projection': ccrs.PlateCarree()},\n",
    "                        figsize=(20, 4))\n",
    "\n",
    "axs = axs.flatten()\n",
    "\n",
    "clevs=np.arange(-5,5,1)\n",
    "\n",
    "time = datetime(year=1979, month=6, day=1)\n",
    "\n",
    "for i in range(5):\n",
    "    axs[i].coastlines(resolution=\"110m\",linewidth=1)\n",
    "    cs = axs[i].contourf(post_data[post_lon], post_data[post_lat], post_data.sel(time=time + timedelta(days=i), method=\"nearest\")[variable].data[0], clevs, transform=ccrs.PlateCarree(),cmap=plt.cm.jet)\n",
    "    axs[i].set_title((time + timedelta(days=i)).strftime('%d-%m-%Y'), fontsize=16)\n",
    "\n",
    "time = datetime(year=2003, month=7, day=28)\n",
    "\n",
    "for i in range(5):\n",
    "    axs[i+5].coastlines(resolution=\"110m\",linewidth=1)\n",
    "    cs = axs[i+5].contourf(post_data[post_lon], post_data[post_lat], post_data.sel(time=time + timedelta(days=i), method=\"nearest\")[variable].data[0], clevs, transform=ccrs.PlateCarree(),cmap=plt.cm.jet)\n",
    "    axs[i+5].set_title((time + timedelta(days=i)).strftime('%d-%m-%Y'), fontsize=16)"
   ]
  },
  {
   "cell_type": "markdown",
   "metadata": {},
   "source": [
    "## noise comparison between z_500 and slp for the beginning of 2003 heat wave in Europe\n",
    "this plot requires additional data for slp (mean sea level pressure), supplied in the variable `post_data_sml`"
   ]
  },
  {
   "cell_type": "code",
   "execution_count": null,
   "metadata": {},
   "outputs": [],
   "source": [
    "post_data_msl = \"<data>\"\n",
    "\n",
    "# bounding box\n",
    "rect_lon = [8, 53]\n",
    "rect_lat = [49, 73]\n",
    "\n",
    "fig, axs = plt.subplots(nrows=2,ncols=3,\n",
    "                        subplot_kw={'projection': ccrs.PlateCarree()},\n",
    "                        figsize=(18, 6))\n",
    "\n",
    "axs = axs.flatten()\n",
    "\n",
    "clevs=np.arange(-5,5,1)\n",
    "\n",
    "time = datetime(year=2003, month=7, day=29)\n",
    "\n",
    "for i in range(3):\n",
    "    axs[i].coastlines(resolution=\"110m\",linewidth=1)\n",
    "    cs = axs[i].contourf(post_data[post_lon], post_data[post_lat], post_data.sel(time=time + timedelta(days=i), method=\"nearest\")[variable].data[0], clevs, transform=ccrs.PlateCarree(),cmap=plt.cm.jet)\n",
    "    axs[i].set_title(\"GEO \" + (time + timedelta(days=i)).strftime('%d-%m-%Y'), fontsize=16)\n",
    "    rect = plt.Rectangle((rect_lon[0], rect_lat[0]), rect_lon[1] - rect_lon[0], rect_lat[1] - rect_lat[0],\n",
    "                      linewidth=2, edgecolor='black', facecolor='none', transform=ccrs.PlateCarree())\n",
    "    axs[i].add_patch(rect)\n",
    "\n",
    "for i in range(3):\n",
    "    axs[i+3].coastlines(resolution=\"110m\",linewidth=1)\n",
    "    cs = axs[i+3].contourf(post_data_msl[\"lon\"], post_data_msl[\"lat\"], post_data_msl.sel(time=time + timedelta(days=i), method=\"nearest\")[\"msl\"][0].data, clevs, transform=ccrs.PlateCarree(),cmap=plt.cm.jet)\n",
    "    axs[i+3].set_title(\"MSLP \" + (time + timedelta(days=i)).strftime('%d-%m-%Y'), fontsize=16)\n",
    "    rect = plt.Rectangle((rect_lon[0], rect_lat[0]), rect_lon[1] - rect_lon[0], rect_lat[1] - rect_lat[0],\n",
    "                      linewidth=2, edgecolor='black', facecolor='none', transform=ccrs.PlateCarree())\n",
    "    axs[i+3].add_patch(rect)"
   ]
  },
  {
   "cell_type": "markdown",
   "metadata": {},
   "source": [
    "## plot an omega blocking event and dipole blocking event in the ERA5 dataset\n",
    "- omega blocking event in 2019 (28.06)\n",
    "- dipole (rex) blocking event in 1982 (28.07)"
   ]
  },
  {
   "cell_type": "code",
   "execution_count": null,
   "metadata": {},
   "outputs": [],
   "source": [
    "time = datetime(year=2019, month=6, day=28)\n",
    "\n",
    "fig, axs = plt.subplots(subplot_kw={\"projection\": ccrs.PlateCarree()}, figsize=(20, 6), ncols=2)\n",
    "\n",
    "for a in axs:\n",
    "    a.coastlines(resolution=\"110m\", linewidth=1)\n",
    "    a.set_extent([-44, 50, 30, 70], crs=ccrs.PlateCarree())\n",
    "\n",
    "cs = axs[0].contourf(\n",
    "    post_data[post_lon],\n",
    "    post_data[post_lat],\n",
    "    post_data.sel(time=time, method=\"nearest\")[variable].data[0],\n",
    "    transform=ccrs.PlateCarree(),\n",
    "    cmap=plt.cm.RdBu_r,\n",
    ")\n",
    "cs = axs[0].contour(\n",
    "    post_data[post_lon],\n",
    "    post_data[post_lat],\n",
    "    post_data.sel(time=time, method=\"nearest\")[variable].data[0],\n",
    "    transform=ccrs.PlateCarree(),\n",
    "    colors=\"black\",\n",
    ")\n",
    "axs[0].set_title(\"a) omega blocking event on \" + time.strftime(\"%d-%m-%Y\"), fontsize=16)\n",
    "\n",
    "time = datetime(year=1982, month=7, day=28)\n",
    "\n",
    "cs = axs[1].contourf(\n",
    "    post_data[post_lon],\n",
    "    post_data[post_lat],\n",
    "    post_data.sel(time=time, method=\"nearest\")[variable].data[0],\n",
    "    transform=ccrs.PlateCarree(),\n",
    "    cmap=plt.cm.RdBu_r,\n",
    ")\n",
    "cs = axs[1].contour(\n",
    "    post_data[post_lon],\n",
    "    post_data[post_lat],\n",
    "    post_data.sel(time=time, method=\"nearest\")[variable].data[0],\n",
    "    transform=ccrs.PlateCarree(),\n",
    "    colors=\"black\",\n",
    ")\n",
    "axs[1].set_title(\"b) dipole blocking event on \" + time.strftime(\"%d-%m-%Y\"), fontsize=16)"
   ]
  },
  {
   "cell_type": "markdown",
   "metadata": {},
   "source": [
    "## bounding box used for all datasets during this thesis"
   ]
  },
  {
   "cell_type": "code",
   "execution_count": null,
   "metadata": {},
   "outputs": [],
   "source": [
    "# Define bounding box\n",
    "lon_range = (-45, 55)\n",
    "lat_range = (30, 75)\n",
    "\n",
    "fig, (ax1, ax2) = plt.subplots(1, 2, figsize=(12, 5),\n",
    "                               subplot_kw={'projection': ccrs.PlateCarree()},\n",
    "                               gridspec_kw={'width_ratios': [1, 1]})\n",
    "\n",
    "ax1.stock_img()\n",
    "ax2.stock_img()\n",
    "ax1.gridlines()\n",
    "ax2.gridlines()\n",
    "\n",
    "rect1 = plt.Rectangle((lon_range[0], lat_range[0]), lon_range[1] - lon_range[0], lat_range[1] - lat_range[0],\n",
    "                      linewidth=2, edgecolor='red', facecolor='none', transform=ccrs.PlateCarree())\n",
    "ax1.add_patch(rect1)\n",
    "\n",
    "\n",
    "rect1 = plt.Rectangle((lon_range[0], lat_range[0]), lon_range[1] - lon_range[0], lat_range[1] - lat_range[0],\n",
    "                      linewidth=2, edgecolor='red', facecolor='none', transform=ccrs.PlateCarree())\n",
    "ax2.add_patch(rect1)\n",
    "\n",
    "ax1.set_extent([-180, 180, -90, 90])\n",
    "ax2.set_extent([-90, 90, 0, 90])\n",
    "\n",
    "plt.show()"
   ]
  },
  {
   "cell_type": "markdown",
   "metadata": {},
   "source": [
    "## plot of 25 days with each row containing 5 consecutive days, blocking is labelled for each plot"
   ]
  },
  {
   "cell_type": "code",
   "execution_count": null,
   "metadata": {},
   "outputs": [],
   "source": [
    "fig, axs = plt.subplots(nrows=5,ncols=5,\n",
    "                        subplot_kw={'projection': ccrs.PlateCarree()},\n",
    "                        figsize=(20, 10))\n",
    "\n",
    "axs = axs.flatten()\n",
    "\n",
    "clevs=np.arange(-3.4,3.4,0.2)\n",
    "\n",
    "for i in range(5):\n",
    "    idx = random.randint(0, 4017)\n",
    "    for j in range(5):\n",
    "        axs[i*5 + j].coastlines(resolution=\"110m\",linewidth=1)\n",
    "\n",
    "        time = pd.to_datetime(str(post_data.time[idx + j].values))\n",
    "\n",
    "        cs = axs[i*5 + j].contourf(post_data[post_lon], post_data[post_lat], post_data[variable][idx, j], clevs, transform=ccrs.PlateCarree(),cmap=plt.cm.jet)\n",
    "        axs[i*5 + j].set_title(time.strftime('%Y-%m-%d') + (\" block: \" + str(labels[\"blocking\"][idx + j].values)))\n",
    "\n",
    "cbar_ax = fig.add_axes([0.2, 0.01, 0.6, 0.02])\n",
    "cbar=fig.colorbar(cs, cax=cbar_ax,orientation='horizontal')"
   ]
  }
 ],
 "metadata": {
  "kernelspec": {
   "display_name": ".venv",
   "language": "python",
   "name": "python3"
  },
  "language_info": {
   "codemirror_mode": {
    "name": "ipython",
    "version": 3
   },
   "file_extension": ".py",
   "mimetype": "text/x-python",
   "name": "python",
   "nbconvert_exporter": "python",
   "pygments_lexer": "ipython3",
   "version": "3.10.13"
  }
 },
 "nbformat": 4,
 "nbformat_minor": 4
}
